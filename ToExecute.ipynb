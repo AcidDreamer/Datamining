{
 "cells": [
  {
   "cell_type": "markdown",
   "metadata": {},
   "source": [
    "# Οδηγείες\n",
    "#### 1.pip install -r req.txt\n",
    "#### 2.στο ίδιο directory  στο data/companydata.csv πρέπει να υπάρχει το training set \n",
    "#### 3.στο ίδιο directory στο toEvaluate/test_unlabeled.csv πρέπει να υπάρχει το αρχείο που μας ενδιαφέρει\n",
    "#### 5.αρχεία : results.txt το ζητούμενο , ScalersResult.txt και BestScalers.txt υπάρχουν για την αποφυγεί εκτέλεσεις χρονοβόλων γραμμών κώδικα"
   ]
  },
  {
   "cell_type": "markdown",
   "metadata": {},
   "source": [
    "Import the neccessary libraries"
   ]
  },
  {
   "cell_type": "code",
   "execution_count": 6,
   "metadata": {},
   "outputs": [],
   "source": [
    "import numpy as np\n",
    "import pandas as pd\n",
    "import matplotlib.pyplot as plt\n",
    "import seaborn as sns\n",
    "from scipy.stats.stats import pearsonr \n",
    "from scipy.stats.stats import spearmanr\n",
    "from sklearn.metrics import brier_score_loss\n",
    "from matplotlib import cm\n",
    "from sklearn.preprocessing import Imputer\n",
    "from sklearn import preprocessing\n",
    "from sklearn.model_selection import train_test_split\n",
    "from sklearn.metrics import classification_report, confusion_matrix\n",
    "from matplotlib.colors import ListedColormap\n",
    "from sklearn.model_selection import train_test_split\n",
    "from sklearn.preprocessing import MinMaxScaler\n",
    "from sklearn.preprocessing import minmax_scale\n",
    "from sklearn.preprocessing import MaxAbsScaler\n",
    "from sklearn.preprocessing import StandardScaler\n",
    "from sklearn.preprocessing import RobustScaler\n",
    "from sklearn.preprocessing import Normalizer\n",
    "from sklearn.preprocessing.data import QuantileTransformer\n",
    "from sklearn.datasets import make_moons, make_circles, make_classification\n",
    "from sklearn.neural_network import MLPClassifier\n",
    "from sklearn.neighbors import KNeighborsClassifier\n",
    "from sklearn.svm import SVC\n",
    "from sklearn.gaussian_process import GaussianProcessClassifier\n",
    "from sklearn.gaussian_process.kernels import RBF\n",
    "from sklearn.tree import DecisionTreeClassifier\n",
    "from sklearn.ensemble import RandomForestClassifier, AdaBoostClassifier\n",
    "from sklearn.naive_bayes import GaussianNB\n",
    "from sklearn.discriminant_analysis import QuadraticDiscriminantAnalysis\n",
    "\n",
    "%matplotlib inline"
   ]
  },
  {
   "cell_type": "markdown",
   "metadata": {},
   "source": [
    "# Όλοι οι classifiers που θα δοκιμάσουμε"
   ]
  },
  {
   "cell_type": "code",
   "execution_count": 7,
   "metadata": {},
   "outputs": [],
   "source": [
    "names = [\"NeuralNet\", \"Gaussian Process\",\n",
    "         \"Decision Tree\", \"Random Forest\", \"Nearest Neighbors\", \"AdaBoost\",\n",
    "         \"Naive Bayes\", \"QDA\",\"Linear SVM\", \"RBF SVM\"]\n",
    "\n",
    "classifiers = [\n",
    "    MLPClassifier(alpha=1),\n",
    "    GaussianProcessClassifier(1.0 * RBF(1.0)),\n",
    "    DecisionTreeClassifier(max_depth=5),\n",
    "    RandomForestClassifier(max_depth=5, n_estimators=10, max_features=1),\n",
    "    KNeighborsClassifier(3),\n",
    "    AdaBoostClassifier(),\n",
    "    GaussianNB(),\n",
    "    QuadraticDiscriminantAnalysis(),\n",
    "    SVC(kernel=\"linear\", C=0.025),\n",
    "    SVC(gamma=2, C=1)]\n"
   ]
  },
  {
   "cell_type": "markdown",
   "metadata": {},
   "source": [
    "Η runExample() τρέχει όλους τους classifier"
   ]
  },
  {
   "cell_type": "code",
   "execution_count": 8,
   "metadata": {},
   "outputs": [],
   "source": [
    "def runExample(someDf,testSize = 0.6):\n",
    "    x = someDf.drop(['X65','ID'],axis = 1)\n",
    "    x = StandardScaler().fit_transform(x)\n",
    "    y = someDf['X65']\n",
    "    X_train, x_test, y_train, y_test = \\\n",
    "    train_test_split(x,y,test_size=testSize)\n",
    "    #train_size = (1 - testSize) %\n",
    "    for name, clf in zip(names, classifiers):\n",
    "            clf.fit(X_train, y_train)\n",
    "            score = clf.score(x_test, y_test)\n",
    "            predictions = clf.predict(x_test)\n",
    "            print('\\n\\n\\n #%s' % name)\n",
    "            print(classification_report(y_test,predictions))"
   ]
  },
  {
   "cell_type": "markdown",
   "metadata": {},
   "source": [
    "H compareScalers() τρέχει για κάθε scaler όλους τους classifier (Απίστευτα αργή συνάρτηση\n",
    "έχει μπει σε σχόλιο και τα αποτελέσμα τις έχουν αποθηκευτεί σε αρχείο , πιο αναλυτικά πιο κάτω)"
   ]
  },
  {
   "cell_type": "code",
   "execution_count": 9,
   "metadata": {},
   "outputs": [],
   "source": [
    "def compareScalers(tdf):\n",
    "    scalerNames = [\"Standard Scaler\", \"Mix max scaler\",\n",
    "         \"Max abs Scaler\", \"Robust Scaler\", \"Quantile Transform uniform\", \"Quantile Transform normal\",\n",
    "         \"Normalizer\"]\n",
    "    scalers = [\n",
    "        StandardScaler(),\n",
    "        MinMaxScaler(),\n",
    "        MaxAbsScaler(),\n",
    "        RobustScaler(quantile_range=(25, 75)),\n",
    "        QuantileTransformer(output_distribution='uniform'),\n",
    "        QuantileTransformer(output_distribution='normal'),\n",
    "        Normalizer()\n",
    "    ]\n",
    "    for index,scaler in enumerate(scalers):\n",
    "        print('>>>>>SCALER : %s  <<<<<<<' % scalerNames[index])\n",
    "        someDf = tdf\n",
    "        x = someDf.drop(['X65','ID'],axis = 1)\n",
    "        x = scaler.fit_transform(x)\n",
    "        y = someDf['X65']\n",
    "        X_train, x_test, y_train, y_test = \\\n",
    "        train_test_split(x,y,test_size=0.6)\n",
    "        #train_size = (1 - testSize) %\n",
    "        for name, clf in zip(names, classifiers):\n",
    "                clf.fit(X_train, y_train)\n",
    "                score = clf.score(x_test, y_test)\n",
    "                predictions = clf.predict(x_test)\n",
    "                print('\\n\\n\\n #%s and scaler %s' % (name,scalerNames[index]))\n",
    "                print(classification_report(y_test,predictions))"
   ]
  },
  {
   "cell_type": "markdown",
   "metadata": {},
   "source": [
    "Φόρτωση των αρχείων"
   ]
  },
  {
   "cell_type": "code",
   "execution_count": 10,
   "metadata": {},
   "outputs": [
    {
     "name": "stdout",
     "output_type": "stream",
     "text": [
      "loaded\n"
     ]
    },
    {
     "name": "stderr",
     "output_type": "stream",
     "text": [
      "/home/acid/Documents/ErgasiaDM/ErgEnv/lib/python2.7/site-packages/ipykernel_launcher.py:15: FutureWarning: convert_objects is deprecated.  Use the data-type specific converters pd.to_datetime, pd.to_timedelta and pd.to_numeric.\n",
      "  from ipykernel import kernelapp as app\n"
     ]
    }
   ],
   "source": [
    "from pathlib import Path\n",
    "my_file = Path(\"/home/acid/Documents/ErgasiaDM/saved.df\")\n",
    "\n",
    "if my_file.is_file():\n",
    "    df = pd.read_pickle(\"saved.df\")\n",
    "    print('loaded')\n",
    "else:\n",
    "    df = pd.read_csv('data/companydata.csv')\n",
    "    df['ID'] = pd.Series((df.index), index= df.index)\n",
    "    df = df.convert_objects(convert_numeric=True)\n",
    "    df.to_pickle(\"saved.df\")  \n",
    "    print('created')\n",
    "dfToSolve = pd.read_csv('toEvaluate/test_unlabeled.csv')\n",
    "dfToSolve = dfToSolve.replace('?', 0.0)\n",
    "dfToSolve = dfToSolve.convert_objects(convert_numeric=True)\n",
    "dfToSolve = dfToSolve.fillna(df.mean())\n",
    "dfToSolve.columns = ['X1', 'X2', 'X3', 'X4', 'X5', 'X6', 'X7', 'X8', 'X9','X10',\n",
    "       'X11', 'X12', 'X13', 'X14', 'X15', 'X16', 'X17', 'X18', 'X19',\n",
    "       'X20', 'X21', 'X22', 'X23', 'X24', 'X25', 'X26', 'X27', 'X28',\n",
    "       'X29', 'X30', 'X31', 'X32', 'X33', 'X34', 'X35', 'X36', 'X37',\n",
    "       'X38', 'X39', 'X40', 'X41', 'X42', 'X43', 'X44', 'X45', 'X46',\n",
    "       'X47', 'X48', 'X49', 'X50', 'X51', 'X52', 'X53', 'X54', 'X55',\n",
    "       'X56', 'X57', 'X58', 'X59', 'X60', 'X61', 'X66', 'X63', 'X64'\n",
    "       ]\n",
    "from sklearn.utils import shuffle\n",
    "df = shuffle(df)"
   ]
  },
  {
   "cell_type": "markdown",
   "metadata": {},
   "source": [
    "Αφαιρούνται και στήλες με περισσότερα από 1000 na"
   ]
  },
  {
   "cell_type": "code",
   "execution_count": null,
   "metadata": {},
   "outputs": [
    {
     "name": "stdout",
     "output_type": "stream",
     "text": [
      "21\n",
      "37\n"
     ]
    }
   ],
   "source": [
    "mistakeSeries = df.isnull().sum()\n",
    "#Index starts at 0 and X starts at 1\n",
    "indexCounter = 1\n",
    "for index,item in enumerate(mistakeSeries):\n",
    "    if(item > 1000 ):\n",
    "        toRemove = 'X%s' % (index+indexCounter)\n",
    "        df = df.drop(toRemove,axis = 1)\n",
    "        index += 1 \n",
    "        print(index)\n",
    "# FIX THIS FIX THIS FIX THIS"
   ]
  },
  {
   "cell_type": "markdown",
   "metadata": {},
   "source": [
    "# Τι θα γίνει με τις nan τιμές;\n",
    "Συμπληρώνονται με βάση τον μέσω αριθμό τις στήλης , ένα απλό drop θα χαλούσε πολύ το std στις στείλες\n"
   ]
  },
  {
   "cell_type": "code",
   "execution_count": null,
   "metadata": {},
   "outputs": [
    {
     "name": "stdout",
     "output_type": "stream",
     "text": [
      "\n",
      "\n",
      "\n",
      " #NeuralNet\n",
      "             precision    recall  f1-score   support\n",
      "\n",
      "          0       0.96      1.00      0.98      4059\n",
      "          1       1.00      0.01      0.01       158\n",
      "\n",
      "avg / total       0.96      0.96      0.94      4217\n",
      "\n"
     ]
    }
   ],
   "source": [
    "df = df.fillna(df.mean())\n",
    "#first run\n",
    "runExample(df)"
   ]
  },
  {
   "cell_type": "markdown",
   "metadata": {},
   "source": [
    "# Test and decide on Scaler and classifier\n",
    "## BEWARE This process takes a tone of time ! \n",
    "## uncomment comparedScalers(df) if you want to run it"
   ]
  },
  {
   "cell_type": "code",
   "execution_count": null,
   "metadata": {},
   "outputs": [],
   "source": [
    "# output saved on ScalersResult.txt\n",
    "#compareScalers(df) \n",
    "# best results saved as well"
   ]
  },
  {
   "cell_type": "markdown",
   "metadata": {},
   "source": [
    "# The best results\n",
    "## NeuralNet and scaler Standard Scaler\n",
    "\t\t     precision    recall  f1-score   support\n",
    "\n",
    "\t\t  0       0.96      1.00      0.98      4057\n",
    "\t\t  1       1.00      0.01      0.01       160\n",
    "\n",
    "\tavg / total       0.96      0.96      0.94      4217\n",
    "\n",
    "## Linear SVM and scaler Quantile Transform normal\n",
    "\t\t     precision    recall  f1-score   support\n",
    "\n",
    "\t\t  0       0.96      1.00      0.98      4044\n",
    "\t\t  1       0.93      0.08      0.15       173\n",
    "\n",
    "\tavg / total       0.96      0.96      0.95      4217\n",
    "\n",
    "## NeuralNet and scaler Quantile Transform normal\n",
    "\t\t     precision    recall  f1-score   support\n",
    "\n",
    "\t\t  0       0.97      1.00      0.98      4044\n",
    "\t\t  1       0.85      0.19      0.31       173\n",
    "\n",
    "\tavg / total       0.96      0.97      0.95      4217\n",
    "\n",
    "\n",
    "## Decision Tree and scaler Quantile Transform normal\n",
    "\t\t     precision    recall  f1-score   support\n",
    "\n",
    "\t\t  0       0.98      1.00      0.99      4044\n",
    "\t\t  1       0.84      0.49      0.62       173\n",
    "\n",
    "\tavg / total       0.97      0.98      0.97      4217\n",
    "\n",
    "\n",
    "## Gaussian Process and scaler Quantile Transform uniform\n",
    "\t\t     precision    recall  f1-score   support\n",
    "\n",
    "\t\t  0       0.98      1.00      0.99      4046\n",
    "\t\t  1       0.83      0.44      0.57       171\n",
    "\n",
    "\tavg / total       0.97      0.97      0.97      4217\n",
    "\n",
    "## Decision Tree and scaler Quantile Transform uniform\n",
    "\t\t     precision    recall  f1-score   support\n",
    "\n",
    "\t\t  0       0.98      1.00      0.99      4046\n",
    "\t\t  1       0.81      0.45      0.58       171\n",
    "\n",
    "\tavg / total       0.97      0.97      0.97      4217\n",
    "\n",
    "\n",
    "\n",
    " ## Decision Tree and scaler Mix max scaler\n",
    "\t\t     precision    recall  f1-score   support\n",
    "\n",
    "\t\t  0       0.98      1.00      0.99      4064\n",
    "\t\t  1       0.80      0.42      0.56       153\n",
    "\n",
    "\tavg / total       0.97      0.98      0.97      4217\n",
    "\n",
    "## AdaBoost and scaler Quantile Transform normal\n",
    "\t\t     precision    recall  f1-score   support\n",
    "\n",
    "\t\t  0       0.97      1.00      0.98      4044\n",
    "\t\t  1       0.80      0.35      0.49       173\n",
    "\n",
    "\tavg / total       0.97      0.97      0.96      4217\n",
    "\n",
    "## Decision Tree and scaler Standard Scaler\n",
    "\t\t     precision    recall  f1-score   support\n",
    "\n",
    "\t\t  0       0.98      0.99      0.99      4057\n",
    "\t\t  1       0.74      0.50      0.60       160\n",
    "\n",
    "\tavg / total       0.97      0.97      0.97      4217\n",
    "\n",
    "## Decision Tree and scaler Robust Scaler\n",
    "\t\t     precision    recall  f1-score   support\n",
    "\n",
    "\t\t  0       0.98      0.99      0.99      4062\n",
    "\t\t  1       0.70      0.45      0.54       155\n",
    "\n",
    "\tavg / total       0.97      0.97      0.97      4217\n"
   ]
  },
  {
   "cell_type": "markdown",
   "metadata": {},
   "source": [
    "### We will use the Decision Tree and scaler Quantile Transform normal \n",
    "### best f1 score\n",
    "\n",
    "dtQtn() runs on a dataframe and creates a new classifier\n",
    "dtWithClassifier() παίρνει έναν ήδη υπάρχων classifier και τρέχει σε dataset"
   ]
  },
  {
   "cell_type": "code",
   "execution_count": null,
   "metadata": {},
   "outputs": [],
   "source": [
    "def dtQtn(someDf,testSize = .6 ,maxDepth = 5,mute = 0):\n",
    "    x = someDf.drop(['X65','ID'],axis = 1)\n",
    "    x = QuantileTransformer(output_distribution='normal').fit_transform(x)\n",
    "    y = someDf['X65']\n",
    "    X_train, x_test, y_train, y_test = \\\n",
    "    train_test_split(x,y,test_size=testSize)\n",
    "    #train_size = (1 - testSize) %\n",
    "    clf = DecisionTreeClassifier(max_depth= maxDepth)\n",
    "    clf.fit(X_train, y_train)\n",
    "    score = clf.score(x_test, y_test)\n",
    "    predictions = clf.predict(x_test)\n",
    "    if(mute == 0):\n",
    "        print(classification_report(y_test,predictions))\n",
    "    return [clf,classification_report(y_test,predictions)]\n",
    "\n",
    "def dtWithClassifier(someDf,classifier,testSize = .6,mute = 0):\n",
    "    x = someDf.drop(['X65','ID'],axis = 1)\n",
    "    x = QuantileTransformer(output_distribution='normal').fit_transform(x)\n",
    "    y = someDf['X65']\n",
    "    X_train, x_test, y_train, y_test = \\\n",
    "    train_test_split(x,y,test_size= testSize)\n",
    "    clf = classifier\n",
    "    clf.fit(X_train, y_train)\n",
    "    score = clf.score(x_test, y_test)\n",
    "    predictions = clf.predict(x_test)\n",
    "    if(mute == 0):\n",
    "        print(classification_report(y_test,predictions))\n",
    "    return [clf,classification_report(y_test,predictions)]"
   ]
  },
  {
   "cell_type": "code",
   "execution_count": null,
   "metadata": {},
   "outputs": [],
   "source": [
    "for i in [1,2,3,4,5,6,7,8,9,10]:\n",
    "    print(i)\n",
    "    dtQtn(df,maxDepth = i)\n",
    "#Μετά από πολλές εκτελέσεις αποφασίσαμε ότι 4,6,7,9 είναι οι καλύτερες τιμέ για maxDepth"
   ]
  },
  {
   "cell_type": "markdown",
   "metadata": {},
   "source": [
    "Τρέχουμε επαναλαμβανόμενα για να πάρουμε τον classifier με το καλύτερο f1score για την class 1\n",
    "(αποφασίζεται δυναμικά το max depth)"
   ]
  },
  {
   "cell_type": "code",
   "execution_count": null,
   "metadata": {
    "scrolled": true
   },
   "outputs": [],
   "source": [
    "maxScore = 0\n",
    "bestReport = None\n",
    "classifier = None \n",
    "for i in range(0, 20):\n",
    "    for i in [4,5,6,7,9]:\n",
    "        result = dtQtn(df,testSize = .5,maxDepth = i,mute = 1)\n",
    "        f1Score =  result[1].split('       ')[5].split('      ')[2]\n",
    "        if (f1Score > maxScore):\n",
    "            maxScore = f1Score\n",
    "            classifier = result[0]\n",
    "            bestReport = result[1]\n",
    "print(maxScore)\n",
    "print(bestReport)\n",
    "# we got the best possible"
   ]
  },
  {
   "cell_type": "code",
   "execution_count": null,
   "metadata": {},
   "outputs": [],
   "source": [
    "dtWithClassifier(df,classifier,mute = 0)[0]"
   ]
  },
  {
   "cell_type": "markdown",
   "metadata": {},
   "source": [
    "# DataCleaning με pearson"
   ]
  },
  {
   "cell_type": "code",
   "execution_count": null,
   "metadata": {},
   "outputs": [],
   "source": [
    "#trexoume gia kathe stili pearson kai rixnoume analoga\n",
    "bankrupcy = df['X65']\n",
    "toRunPearson = df.drop(['ID','X65'],axis =1)\n",
    "pCleanUp = df\n",
    "pearson = []\n",
    "for item in toRunPearson:\n",
    "    #print(bankrupcy)\n",
    "    pearsonResult = pearsonr(toRunPearson[item],bankrupcy)[0]\n",
    "    pearson.append([pearsonResult,item])\n",
    "    if (pearsonResult < 0):\n",
    "        pCleanUp = pCleanUp.drop([item],axis = 1)\n",
    "        print('drop %s' % item )\n",
    "apDf = pCleanUp\n",
    "\n"
   ]
  },
  {
   "cell_type": "markdown",
   "metadata": {},
   "source": [
    "# After pearson"
   ]
  },
  {
   "cell_type": "code",
   "execution_count": null,
   "metadata": {},
   "outputs": [],
   "source": [
    "#οι στήλες που μείναν\n",
    "print(apDf.columns)\n",
    "#Αυτές είναι οι στήλες που θα διαλέγαμε ως υποσύνολο για να αξιολογήσουμε , αλλά οι αφαίρεση στηλών (των υπόλοιπων)\n",
    "#επηρέασε πολύ αρνητικά το μοντέλο ώστε να μπορούμε να εξάγουμε την αξία των γνωρισμάτων για το dataframe"
   ]
  },
  {
   "cell_type": "code",
   "execution_count": null,
   "metadata": {
    "scrolled": false
   },
   "outputs": [],
   "source": [
    "print('After pearson')\n",
    "print(dtQtn(apDf,mute = 1)[1]) #after pearson\n",
    "print('Before pearson')\n",
    "print(dtWithClassifier(df,classifier,mute = 1)[1]) #before pearson\n"
   ]
  },
  {
   "cell_type": "markdown",
   "metadata": {},
   "source": [
    "Τελικά δεν θα χρησιμοποιηθεί γιατί έχει πολύ αρνητικά αποτελέσματα"
   ]
  },
  {
   "cell_type": "markdown",
   "metadata": {},
   "source": [
    "Το dataframe προς επίλυση"
   ]
  },
  {
   "cell_type": "code",
   "execution_count": null,
   "metadata": {},
   "outputs": [],
   "source": [
    "copy = dfToSolve\n",
    "copy = copy.fillna(copy.mean())\n",
    "copy = copy[df.drop(['X65','ID'],axis = 1).columns]\n",
    "#Drop the missing columns"
   ]
  },
  {
   "cell_type": "markdown",
   "metadata": {},
   "source": [
    "# Πολύ σημαντικό! \n",
    "### Εφαρμόζουμε τον ίδιο scaler"
   ]
  },
  {
   "cell_type": "code",
   "execution_count": null,
   "metadata": {},
   "outputs": [],
   "source": [
    "index = 0\n",
    "solvedList = []\n",
    "x = copy\n",
    "x = QuantileTransformer(output_distribution='normal').fit_transform(x)\n",
    "\n",
    "for item in classifier.predict_proba(copy):\n",
    "    #Ελπίζουμε ότι τα ID δεν ανακατεύτηκαν \n",
    "    solvedList.append([index,item[0],item[1]])\n",
    "    index +=1\n"
   ]
  },
  {
   "cell_type": "code",
   "execution_count": null,
   "metadata": {},
   "outputs": [],
   "source": [
    "qSolved = pd.DataFrame(solvedList)\n",
    "qSolved.columns = ['ID','NotBankruptProb','BankruptProb']\n",
    "asked = qSolved.sort_values(by=['BankruptProb'],ascending = False)\n",
    "ids = asked['ID'].head(50)"
   ]
  },
  {
   "cell_type": "code",
   "execution_count": null,
   "metadata": {},
   "outputs": [],
   "source": [
    "#ΓΙΑΤΙ ΤΟ ROWID ΔΕΝ ΑΡΧΙΖΕΙ ΑΠΟ 0 :'(\n",
    "idList = ids.tolist()\n",
    "arraysStartAt0 = []\n",
    "for item in idList:\n",
    "    plzDontStartAt1 = item + 1\n",
    "    arraysStartAt0.append(plzDontStartAt1)"
   ]
  },
  {
   "cell_type": "code",
   "execution_count": null,
   "metadata": {},
   "outputs": [],
   "source": [
    "#Τα αποτελέσματα σε αρχείο\n",
    "thefile = open('results.txt', 'w')\n",
    "for index,item in enumerate(arraysStartAt0):\n",
    "    if (index != 49):\n",
    "        thefile.write(\"%s,\\n\" % item)\n",
    "    else:\n",
    "        thefile.write(\"%s\" % item)\n"
   ]
  },
  {
   "cell_type": "code",
   "execution_count": null,
   "metadata": {},
   "outputs": [],
   "source": []
  }
 ],
 "metadata": {
  "kernelspec": {
   "display_name": "Python 2",
   "language": "python",
   "name": "python2"
  },
  "language_info": {
   "codemirror_mode": {
    "name": "ipython",
    "version": 2
   },
   "file_extension": ".py",
   "mimetype": "text/x-python",
   "name": "python",
   "nbconvert_exporter": "python",
   "pygments_lexer": "ipython2",
   "version": "2.7.12"
  }
 },
 "nbformat": 4,
 "nbformat_minor": 2
}
